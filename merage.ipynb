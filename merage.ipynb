{
 "cells": [
  {
   "cell_type": "code",
   "execution_count": 35,
   "metadata": {},
   "outputs": [],
   "source": [
    "# 导入pandas包\n",
    "import pandas as pd\n",
    "\n",
    "# 读取csv文件\n",
    "csv1 = pd.read_csv('1573805188_result.csv_score',sep=',',names=['name', 'result','score'])\n",
    "csv2 = pd.read_csv('sub.csv',sep=',',names=['name', 'result','score'])"
   ]
  },
  {
   "cell_type": "code",
   "execution_count": 36,
   "metadata": {},
   "outputs": [
    {
     "name": "stdout",
     "output_type": "stream",
     "text": [
      "2504\n",
      "2504\n"
     ]
    }
   ],
   "source": [
    "print(len(csv1))\n",
    "print(len(csv2))"
   ]
  },
  {
   "cell_type": "code",
   "execution_count": 37,
   "metadata": {},
   "outputs": [],
   "source": [
    "csv1_score_dict = {}\n",
    "csv2_score_dict = {}\n",
    "csv1_result_dict = {}\n",
    "csv2_result_dict = {}\n",
    "for i in range(len(csv1)):\n",
    "    name1 = csv1['name'][i]\n",
    "    name2 = csv2['name'][i]\n",
    "    score1 = csv1['score'][i]\n",
    "    score2 = csv2['score'][i]\n",
    "    predict1 = csv1['result'][i]\n",
    "    predict2 = csv2['result'][i]\n",
    "    csv1_score_dict[name1] = score1\n",
    "    csv2_score_dict[name2] = score2\n",
    "    csv1_result_dict[name1] = predict1\n",
    "    csv2_result_dict[name2] = predict2"
   ]
  },
  {
   "cell_type": "code",
   "execution_count": 38,
   "metadata": {},
   "outputs": [
    {
     "name": "stdout",
     "output_type": "stream",
     "text": [
      "csv1: 764  csv2: 1740\n"
     ]
    }
   ],
   "source": [
    "result = {}\n",
    "result_score={}\n",
    "cnt = 0\n",
    "for line in csv1_result_dict:\n",
    "    if csv1_score_dict[line] > csv2_score_dict[line]:\n",
    "        result[line] = csv1_result_dict[line]\n",
    "        result_score[line] = csv1_score_dict[line]\n",
    "        cnt+=1\n",
    "    else:\n",
    "        result[line] = csv2_result_dict[line]\n",
    "        result_score[line] = csv2_score_dict[line]\n",
    "print('csv1:',str(cnt),' csv2:',str(2504-cnt))"
   ]
  },
  {
   "cell_type": "code",
   "execution_count": 33,
   "metadata": {},
   "outputs": [],
   "source": [
    "import codecs\n",
    "import time\n",
    "t = time.time()\n",
    "result_name = str(int(t))+'_merage_result.csv'\n",
    "test_infer_result = codecs.open(result_name, 'w') # label txt\n",
    "\n",
    "for line in result:\n",
    "    test_infer_result.write(\"{0},{1}\\n\".format(line,result[line]))"
   ]
  },
  {
   "cell_type": "code",
   "execution_count": 34,
   "metadata": {},
   "outputs": [],
   "source": [
    "import codecs\n",
    "import time\n",
    "t = time.time()\n",
    "result_name = str(int(t))+'_merage_m_result.csv'\n",
    "test_infer_result = codecs.open(result_name, 'w') # label txt\n",
    "\n",
    "for line in result:\n",
    "    test_infer_result.write(\"{0},{1},{2}\\n\".format(line,result[line],result_score[line]))"
   ]
  },
  {
   "cell_type": "code",
   "execution_count": null,
   "metadata": {},
   "outputs": [],
   "source": []
  }
 ],
 "metadata": {
  "file_extension": ".py",
  "kernelspec": {
   "display_name": "Python 3",
   "language": "python",
   "name": "python3"
  },
  "language_info": {
   "codemirror_mode": {
    "name": "ipython",
    "version": 3
   },
   "file_extension": ".py",
   "mimetype": "text/x-python",
   "name": "python",
   "nbconvert_exporter": "python",
   "pygments_lexer": "ipython3",
   "version": "3.7.0"
  },
  "mimetype": "text/x-python",
  "name": "python",
  "npconvert_exporter": "python",
  "pygments_lexer": "ipython3",
  "version": 3
 },
 "nbformat": 4,
 "nbformat_minor": 2
}
